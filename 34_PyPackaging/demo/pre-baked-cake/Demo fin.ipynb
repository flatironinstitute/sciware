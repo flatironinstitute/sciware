{
 "cells": [
  {
   "cell_type": "markdown",
   "metadata": {},
   "source": [
    "# Sciware: Python Packaging\n",
    "\n",
    "This notebook is a cut down version of Dan Foreman-Mackey's [Blog Post](https://dfm.io/posts/autocorr/).\n",
    "If you're curious what the calculations here are doing or what they are for, see that!\n",
    "\n",
    "We use it here as an example of a common workflow: Jupyter Notebooks combining some \n",
    "calculation (which maybe you want to re-use!) with a concrete data set and/or visualization.\n",
    "\n",
    "We will iteratively move parts of this notebook into a package while keeping the rest of the\n",
    "notebook working the whole time.\n",
    "\n",
    "Some useful links:\n",
    "- https://setuptools.pypa.io/en/latest/userguide/quickstart.html\n",
    "- https://setuptools.pypa.io/en/latest/userguide/pyproject_config.html\n",
    "- https://packaging.python.org/en/latest/guides/writing-pyproject-toml/\n",
    "- https://packaging.python.org/en/latest/tutorials/packaging-projects/"
   ]
  },
  {
   "cell_type": "code",
   "execution_count": null,
   "metadata": {
    "jupyter": {
     "source_hidden": true
    }
   },
   "outputs": [],
   "source": [
    "# Google Colab: Uncomment and run the next line!\n",
    "#!pip install matplotlib scipy emcee autograd numpy celerite tqdm build twine"
   ]
  },
  {
   "cell_type": "markdown",
   "metadata": {},
   "source": [
    "## Generating data (fake MCMC chains, in this case)"
   ]
  },
  {
   "cell_type": "code",
   "execution_count": null,
   "metadata": {
    "jupyter": {
     "source_hidden": true
    }
   },
   "outputs": [],
   "source": [
    "import numpy as np\n",
    "import matplotlib.pyplot as plt\n",
    "\n",
    "np.random.seed(123456)\n",
    "\n",
    "# Build the celerite model:\n",
    "import celerite\n",
    "from celerite import terms\n",
    "\n",
    "kernel = terms.RealTerm(log_a=0.0, log_c=-6.0)\n",
    "kernel += terms.RealTerm(log_a=0.0, log_c=-2.0)\n",
    "\n",
    "# The true autocorrelation time can be calculated analytically:\n",
    "true_tau = sum(2 * np.exp(t.log_a - t.log_c) for t in kernel.terms)\n",
    "true_tau /= sum(np.exp(t.log_a) for t in kernel.terms)\n",
    "true_tau\n",
    "\n",
    "# Simulate a set of chains:\n",
    "gp = celerite.GP(kernel)\n",
    "t = np.arange(2000000)\n",
    "gp.compute(t)\n",
    "y = gp.sample(size=32)\n",
    "\n",
    "# Let's plot a little segment with a few samples:\n",
    "plt.plot(y[:3, :300].T)\n",
    "plt.xlim(0, 300)\n",
    "plt.xlabel(\"step number\")\n",
    "plt.ylabel(\"$f$\")\n",
    "plt.title(\"$\\\\tau_\\mathrm{{true}} = {0:.0f}$\".format(true_tau), fontsize=14);"
   ]
  },
  {
   "cell_type": "code",
   "execution_count": null,
   "metadata": {},
   "outputs": [],
   "source": [
    "!pip install -e ./autocorr/\n",
    "# after the first time you run the above command, you may need to restart the ipython kernel\n",
    "# future reloads can be handled by %autoreload, see https://ipython.readthedocs.io/en/stable/config/extensions/autoreload.html\n",
    "%load_ext autoreload\n",
    "%autoreload 3"
   ]
  },
  {
   "cell_type": "markdown",
   "metadata": {},
   "source": [
    "### Empirical autocorrelation function"
   ]
  },
  {
   "cell_type": "code",
   "execution_count": null,
   "metadata": {
    "collapsed": false,
    "jupyter": {
     "outputs_hidden": false
    }
   },
   "outputs": [],
   "source": [
    "from autocorr.estimators import autocorrelation_function_1d\n",
    "# could also import autocorr and use autocorr.estimators.autocorrelation_function_1d ...\n",
    "\n",
    "\n",
    "# Make plots of ACF estimate for a few different chain lengths\n",
    "window = int(2 * true_tau)\n",
    "tau = np.arange(window + 1)\n",
    "f0 = kernel.get_value(tau) / kernel.get_value(0.0)\n",
    "\n",
    "# Loop over chain lengths:\n",
    "fig, axes = plt.subplots(1, 3, figsize=(12, 4), sharex=True, sharey=True)\n",
    "for n, ax in zip([10, 100, 1000], axes):\n",
    "    nn = int(true_tau * n)\n",
    "    ax.plot(tau / true_tau, f0, \"k\", label=\"true\")\n",
    "    ax.plot(tau / true_tau, autocorrelation_function_1d(y[0, :nn])[: window + 1], label=\"estimate\")\n",
    "    ax.set_title(r\"$N = {0}\\,\\tau_\\mathrm{{true}}$\".format(n), fontsize=14)\n",
    "    ax.set_xlabel(r\"$\\tau / \\tau_\\mathrm{true}$\")\n",
    "\n",
    "axes[0].set_ylabel(r\"$\\rho_f(\\tau)$\")\n",
    "axes[-1].set_xlim(0, window / true_tau)\n",
    "axes[-1].set_ylim(-0.05, 1.05)\n",
    "axes[-1].legend(fontsize=14);"
   ]
  },
  {
   "cell_type": "markdown",
   "metadata": {},
   "source": [
    "### Estimating autocorrelation time\n"
   ]
  },
  {
   "cell_type": "code",
   "execution_count": null,
   "metadata": {
    "collapsed": false,
    "jupyter": {
     "outputs_hidden": false
    }
   },
   "outputs": [],
   "source": [
    "from autocorr.estimators import integrated_autocorrelation_time_averaged, integrated_autocorrelation_time_ensemble\n",
    "\n",
    "\n",
    "# Compute the estimators for a few different chain lengths\n",
    "N = np.exp(np.linspace(np.log(100), np.log(y.shape[1]), 10)).astype(int)\n",
    "gw2010 = np.empty(len(N))\n",
    "new = np.empty(len(N))\n",
    "for i, n in enumerate(N):\n",
    "    gw2010[i] = integrated_autocorrelation_time_averaged(y[:, :n])\n",
    "    new[i] = integrated_autocorrelation_time_ensemble(y[:, :n])\n",
    "\n",
    "# Plot the comparisons\n",
    "plt.loglog(N, gw2010, \"o-\", label=\"G&W 2010\")\n",
    "plt.loglog(N, new, \"o-\", label=\"DFM 2017\")\n",
    "ylim = plt.gca().get_ylim()\n",
    "plt.plot(N, N / 50.0, \"--k\", label=r\"$\\tau = N/50$\")\n",
    "plt.axhline(true_tau, color=\"k\", label=\"truth\", zorder=-100)\n",
    "plt.ylim(ylim)\n",
    "plt.xlabel(\"number of samples, $N$\")\n",
    "plt.ylabel(r\"$\\tau$ estimates\")\n",
    "plt.legend(fontsize=14);"
   ]
  },
  {
   "cell_type": "markdown",
   "metadata": {},
   "source": [
    "## A more realistic example\n",
    "\n",
    "Now, let's run an actual Markov chain and test these methods using those samples.\n",
    "So that the sampling isn't completely trivial, we'll sample a multimodal density in three dimensions."
   ]
  },
  {
   "cell_type": "code",
   "execution_count": null,
   "metadata": {
    "collapsed": false,
    "jupyter": {
     "outputs_hidden": false
    }
   },
   "outputs": [],
   "source": [
    "import emcee\n",
    "\n",
    "def log_prob(p):\n",
    "    return np.logaddexp(-0.5 * np.sum(p**2), -0.5 * np.sum((p - 4.0) ** 2))\n",
    "\n",
    "\n",
    "sampler = emcee.EnsembleSampler(32, 3, log_prob)\n",
    "sampler.run_mcmc(\n",
    "    np.concatenate((np.random.randn(16, 3), 4.0 + np.random.randn(16, 3)), axis=0),\n",
    "    50000,\n",
    "    progress=True,\n",
    ");"
   ]
  },
  {
   "cell_type": "code",
   "execution_count": null,
   "metadata": {
    "collapsed": false,
    "jupyter": {
     "outputs_hidden": false
    }
   },
   "outputs": [],
   "source": [
    "chain = sampler.get_chain()[:, :, 0].T\n",
    "\n",
    "plt.hist(chain.flatten(), 100)\n",
    "plt.gca().set_yticks([])\n",
    "plt.xlabel(r\"$\\theta$\")\n",
    "plt.ylabel(r\"$p(\\theta)$\");"
   ]
  },
  {
   "cell_type": "markdown",
   "metadata": {},
   "source": [
    "Convergence of the ACT estimate as chains get longer"
   ]
  },
  {
   "cell_type": "code",
   "execution_count": null,
   "metadata": {
    "collapsed": false,
    "jupyter": {
     "outputs_hidden": false
    }
   },
   "outputs": [],
   "source": [
    "# Compute the estimators for a few different chain lengths\n",
    "N = np.exp(np.linspace(np.log(100), np.log(chain.shape[1]), 10)).astype(int)\n",
    "gw2010 = np.empty(len(N))\n",
    "new = np.empty(len(N))\n",
    "for i, n in enumerate(N):\n",
    "    gw2010[i] = integrated_autocorrelation_time_averaged(chain[:, :n])\n",
    "    new[i] = integrated_autocorrelation_time_ensemble(chain[:, :n])\n",
    "\n",
    "# Plot the comparisons\n",
    "plt.loglog(N, gw2010, \"o-\", label=\"G\\&W 2010\")\n",
    "plt.loglog(N, new, \"o-\", label=\"DFM 2017\")\n",
    "ylim = plt.gca().get_ylim()\n",
    "plt.plot(N, N / 50.0, \"--k\", label=r\"$\\tau = N/50$\")\n",
    "plt.ylim(ylim)\n",
    "plt.xlabel(\"number of samples, $N$\")\n",
    "plt.ylabel(r\"$\\tau$ estimates\")\n",
    "plt.legend(fontsize=14);"
   ]
  },
  {
   "cell_type": "markdown",
   "metadata": {},
   "source": [
    "### Estimating ACT using a autoregression model"
   ]
  },
  {
   "cell_type": "code",
   "execution_count": null,
   "metadata": {},
   "outputs": [],
   "source": [
    "from autocorr.estimators import integrated_autocorrelation_time_learned\n",
    "\n",
    "# Calculate the estimate for a set of different chain lengths\n",
    "ml = np.empty(len(N))\n",
    "ml[:] = np.nan\n",
    "for j, n in enumerate(N[1:8]):\n",
    "    i = j + 1\n",
    "    thin = max(1, int(0.05 * new[i]))\n",
    "    ml[i] = integrated_autocorrelation_time_learned(chain[:, :n], thin=thin)"
   ]
  },
  {
   "cell_type": "code",
   "execution_count": null,
   "metadata": {
    "collapsed": false,
    "jupyter": {
     "outputs_hidden": false
    }
   },
   "outputs": [],
   "source": [
    "# Plot the comparisons\n",
    "plt.loglog(N, gw2010, \"o-\", label=\"G\\&W 2010\")\n",
    "plt.loglog(N, new, \"o-\", label=\"DFM 2017\")\n",
    "plt.loglog(N, ml, \"o-\", label=\"DFM 2017: ML\")\n",
    "ylim = plt.gca().get_ylim()\n",
    "plt.plot(N, N / 50.0, \"--k\", label=r\"$\\tau = N/50$\")\n",
    "plt.ylim(ylim)\n",
    "plt.xlabel(\"number of samples, $N$\")\n",
    "plt.ylabel(r\"$\\tau$ estimates\")\n",
    "plt.legend(fontsize=14);"
   ]
  },
  {
   "cell_type": "markdown",
   "metadata": {},
   "source": [
    "In this case, this estimate seems to be robust even for very short chains with $N \\sim \\tau$."
   ]
  }
 ],
 "metadata": {
  "interpreter": {
   "hash": "5d1583dc6522fdca8b9cf6587d3eebed179eafd4280bb32d860d5fb871a69112"
  },
  "kernelspec": {
   "display_name": "Python 3 (ipykernel)",
   "language": "python",
   "name": "python3"
  },
  "language_info": {
   "codemirror_mode": {
    "name": "ipython",
    "version": 3
   },
   "file_extension": ".py",
   "mimetype": "text/x-python",
   "name": "python",
   "nbconvert_exporter": "python",
   "pygments_lexer": "ipython3",
   "version": "3.11.0"
  }
 },
 "nbformat": 4,
 "nbformat_minor": 4
}
