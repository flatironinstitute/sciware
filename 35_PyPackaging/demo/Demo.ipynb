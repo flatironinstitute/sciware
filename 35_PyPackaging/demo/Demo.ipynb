{
 "cells": [
  {
   "cell_type": "markdown",
   "metadata": {},
   "source": [
    "# Sciware: Python Packaging\n",
    "\n",
    "This notebook is a cut down version of Dan Foreman-Mackey's [Blog Post](https://dfm.io/posts/autocorr/).\n",
    "If you're curious what the calculations here are doing or what they are for, see that!\n",
    "\n",
    "We use it here as an example of a common workflow: Jupyter Notebooks combining some \n",
    "calculation (which maybe you want to re-use!) with a concrete data set and/or visualization.\n",
    "\n",
    "We will iteratively move parts of this notebook into a package while keeping the rest of the\n",
    "notebook working the whole time."
   ]
  },
  {
   "cell_type": "markdown",
   "metadata": {},
   "source": [
    "## Generating data (fake MCMC chains, in this case)"
   ]
  },
  {
   "cell_type": "code",
   "execution_count": null,
   "metadata": {
    "jupyter": {
     "source_hidden": true
    }
   },
   "outputs": [],
   "source": [
    "import numpy as np\n",
    "import matplotlib.pyplot as plt\n",
    "\n",
    "np.random.seed(123456)\n",
    "\n",
    "# Build the celerite model:\n",
    "import celerite\n",
    "from celerite import terms\n",
    "\n",
    "kernel = terms.RealTerm(log_a=0.0, log_c=-6.0)\n",
    "kernel += terms.RealTerm(log_a=0.0, log_c=-2.0)\n",
    "\n",
    "# The true autocorrelation time can be calculated analytically:\n",
    "true_tau = sum(2 * np.exp(t.log_a - t.log_c) for t in kernel.terms)\n",
    "true_tau /= sum(np.exp(t.log_a) for t in kernel.terms)\n",
    "true_tau\n",
    "\n",
    "# Simulate a set of chains:\n",
    "gp = celerite.GP(kernel)\n",
    "t = np.arange(2000000)\n",
    "gp.compute(t)\n",
    "y = gp.sample(size=32)\n",
    "\n",
    "# Let's plot a little segment with a few samples:\n",
    "plt.plot(y[:3, :300].T)\n",
    "plt.xlim(0, 300)\n",
    "plt.xlabel(\"step number\")\n",
    "plt.ylabel(\"$f$\")\n",
    "plt.title(\"$\\\\tau_\\mathrm{{true}} = {0:.0f}$\".format(true_tau), fontsize=14);"
   ]
  },
  {
   "cell_type": "markdown",
   "metadata": {},
   "source": [
    "### Empirical autocorrelation function"
   ]
  },
  {
   "cell_type": "code",
   "execution_count": null,
   "metadata": {
    "collapsed": false,
    "jupyter": {
     "outputs_hidden": false
    }
   },
   "outputs": [],
   "source": [
    "def next_pow_two(n):\n",
    "    i = 1\n",
    "    while i < n:\n",
    "        i = i << 1\n",
    "    return i\n",
    "\n",
    "\n",
    "def autocorr_func_1d(x, norm=True):\n",
    "    x = np.atleast_1d(x)\n",
    "    if len(x.shape) != 1:\n",
    "        raise ValueError(\"invalid dimensions for 1D autocorrelation function\")\n",
    "    n = next_pow_two(len(x))\n",
    "\n",
    "    # Compute the FFT and then (from that) the auto-correlation function\n",
    "    f = np.fft.fft(x - np.mean(x), n=2 * n)\n",
    "    acf = np.fft.ifft(f * np.conjugate(f))[: len(x)].real\n",
    "    acf /= 4 * n\n",
    "\n",
    "    # Optionally normalize\n",
    "    if norm:\n",
    "        acf /= acf[0]\n",
    "\n",
    "    return acf\n",
    "\n",
    "\n",
    "# Make plots of ACF estimate for a few different chain lengths\n",
    "window = int(2 * true_tau)\n",
    "tau = np.arange(window + 1)\n",
    "f0 = kernel.get_value(tau) / kernel.get_value(0.0)\n",
    "\n",
    "# Loop over chain lengths:\n",
    "fig, axes = plt.subplots(1, 3, figsize=(12, 4), sharex=True, sharey=True)\n",
    "for n, ax in zip([10, 100, 1000], axes):\n",
    "    nn = int(true_tau * n)\n",
    "    ax.plot(tau / true_tau, f0, \"k\", label=\"true\")\n",
    "    ax.plot(tau / true_tau, autocorr_func_1d(y[0, :nn])[: window + 1], label=\"estimate\")\n",
    "    ax.set_title(r\"$N = {0}\\,\\tau_\\mathrm{{true}}$\".format(n), fontsize=14)\n",
    "    ax.set_xlabel(r\"$\\tau / \\tau_\\mathrm{true}$\")\n",
    "\n",
    "axes[0].set_ylabel(r\"$\\rho_f(\\tau)$\")\n",
    "axes[-1].set_xlim(0, window / true_tau)\n",
    "axes[-1].set_ylim(-0.05, 1.05)\n",
    "axes[-1].legend(fontsize=14);"
   ]
  },
  {
   "cell_type": "markdown",
   "metadata": {},
   "source": [
    "### Estimating autocorrelation time\n"
   ]
  },
  {
   "cell_type": "code",
   "execution_count": null,
   "metadata": {
    "collapsed": false,
    "jupyter": {
     "outputs_hidden": false
    }
   },
   "outputs": [],
   "source": [
    "# Automated windowing procedure following Sokal (1989)\n",
    "def auto_window(taus, c):\n",
    "    m = np.arange(len(taus)) < c * taus\n",
    "    if np.any(m):\n",
    "        return np.argmin(m)\n",
    "    return len(taus) - 1\n",
    "\n",
    "\n",
    "# Following the suggestion from Goodman & Weare (2010)\n",
    "def autocorr_gw2010(y, c=5.0):\n",
    "    f = autocorr_func_1d(np.mean(y, axis=0))\n",
    "    taus = 2.0 * np.cumsum(f) - 1.0\n",
    "    window = auto_window(taus, c)\n",
    "    return taus[window]\n",
    "\n",
    "\n",
    "def autocorr_new(y, c=5.0):\n",
    "    f = np.zeros(y.shape[1])\n",
    "    for yy in y:\n",
    "        f += autocorr_func_1d(yy)\n",
    "    f /= len(y)\n",
    "    taus = 2.0 * np.cumsum(f) - 1.0\n",
    "    window = auto_window(taus, c)\n",
    "    return taus[window]\n",
    "\n",
    "\n",
    "# Compute the estimators for a few different chain lengths\n",
    "N = np.exp(np.linspace(np.log(100), np.log(y.shape[1]), 10)).astype(int)\n",
    "gw2010 = np.empty(len(N))\n",
    "new = np.empty(len(N))\n",
    "for i, n in enumerate(N):\n",
    "    gw2010[i] = autocorr_gw2010(y[:, :n])\n",
    "    new[i] = autocorr_new(y[:, :n])\n",
    "\n",
    "# Plot the comparisons\n",
    "plt.loglog(N, gw2010, \"o-\", label=\"G&W 2010\")\n",
    "plt.loglog(N, new, \"o-\", label=\"DFM 2017\")\n",
    "ylim = plt.gca().get_ylim()\n",
    "plt.plot(N, N / 50.0, \"--k\", label=r\"$\\tau = N/50$\")\n",
    "plt.axhline(true_tau, color=\"k\", label=\"truth\", zorder=-100)\n",
    "plt.ylim(ylim)\n",
    "plt.xlabel(\"number of samples, $N$\")\n",
    "plt.ylabel(r\"$\\tau$ estimates\")\n",
    "plt.legend(fontsize=14);"
   ]
  },
  {
   "cell_type": "markdown",
   "metadata": {},
   "source": [
    "## A more realistic example\n",
    "\n",
    "Now, let's run an actual Markov chain and test these methods using those samples.\n",
    "So that the sampling isn't completely trivial, we'll sample a multimodal density in three dimensions."
   ]
  },
  {
   "cell_type": "code",
   "execution_count": null,
   "metadata": {
    "collapsed": false,
    "jupyter": {
     "outputs_hidden": false
    }
   },
   "outputs": [],
   "source": [
    "import emcee\n",
    "\n",
    "def log_prob(p):\n",
    "    return np.logaddexp(-0.5 * np.sum(p**2), -0.5 * np.sum((p - 4.0) ** 2))\n",
    "\n",
    "\n",
    "sampler = emcee.EnsembleSampler(32, 3, log_prob)\n",
    "sampler.run_mcmc(\n",
    "    np.concatenate((np.random.randn(16, 3), 4.0 + np.random.randn(16, 3)), axis=0),\n",
    "    50000,\n",
    "    progress=True,\n",
    ");"
   ]
  },
  {
   "cell_type": "code",
   "execution_count": null,
   "metadata": {
    "collapsed": false,
    "jupyter": {
     "outputs_hidden": false
    }
   },
   "outputs": [],
   "source": [
    "chain = sampler.get_chain()[:, :, 0].T\n",
    "\n",
    "plt.hist(chain.flatten(), 100)\n",
    "plt.gca().set_yticks([])\n",
    "plt.xlabel(r\"$\\theta$\")\n",
    "plt.ylabel(r\"$p(\\theta)$\");"
   ]
  },
  {
   "cell_type": "markdown",
   "metadata": {},
   "source": [
    "Convergence of the ACT estimate as chains get longer"
   ]
  },
  {
   "cell_type": "code",
   "execution_count": null,
   "metadata": {
    "collapsed": false,
    "jupyter": {
     "outputs_hidden": false
    }
   },
   "outputs": [],
   "source": [
    "# Compute the estimators for a few different chain lengths\n",
    "N = np.exp(np.linspace(np.log(100), np.log(chain.shape[1]), 10)).astype(int)\n",
    "gw2010 = np.empty(len(N))\n",
    "new = np.empty(len(N))\n",
    "for i, n in enumerate(N):\n",
    "    gw2010[i] = autocorr_gw2010(chain[:, :n])\n",
    "    new[i] = autocorr_new(chain[:, :n])\n",
    "\n",
    "# Plot the comparisons\n",
    "plt.loglog(N, gw2010, \"o-\", label=\"G\\&W 2010\")\n",
    "plt.loglog(N, new, \"o-\", label=\"DFM 2017\")\n",
    "ylim = plt.gca().get_ylim()\n",
    "plt.plot(N, N / 50.0, \"--k\", label=r\"$\\tau = N/50$\")\n",
    "plt.ylim(ylim)\n",
    "plt.xlabel(\"number of samples, $N$\")\n",
    "plt.ylabel(r\"$\\tau$ estimates\")\n",
    "plt.legend(fontsize=14);"
   ]
  },
  {
   "cell_type": "markdown",
   "metadata": {},
   "source": [
    "### Estimating ACT using a autoregression model"
   ]
  },
  {
   "cell_type": "code",
   "execution_count": null,
   "metadata": {},
   "outputs": [],
   "source": [
    "from scipy.optimize import minimize\n",
    "\n",
    "\n",
    "def autocorr_ml(y, thin=1, c=5.0):\n",
    "    # Compute the initial estimate of tau using the standard method\n",
    "    init = autocorr_new(y, c=c)\n",
    "    z = y[:, ::thin]\n",
    "    N = z.shape[1]\n",
    "\n",
    "    # Build the GP model\n",
    "    tau = max(1.0, init / thin)\n",
    "    kernel = terms.RealTerm(\n",
    "        np.log(0.9 * np.var(z)), -np.log(tau), bounds=[(-5.0, 5.0), (-np.log(N), 0.0)]\n",
    "    )\n",
    "    kernel += terms.RealTerm(\n",
    "        np.log(0.1 * np.var(z)),\n",
    "        -np.log(0.5 * tau),\n",
    "        bounds=[(-5.0, 5.0), (-np.log(N), 0.0)],\n",
    "    )\n",
    "    gp = celerite.GP(kernel, mean=np.mean(z))\n",
    "    gp.compute(np.arange(z.shape[1]))\n",
    "\n",
    "    # Define the objective\n",
    "    def nll(p):\n",
    "        # Update the GP model\n",
    "        gp.set_parameter_vector(p)\n",
    "\n",
    "        # Loop over the chains and compute likelihoods\n",
    "        v, g = zip(*(gp.grad_log_likelihood(z0, quiet=True) for z0 in z))\n",
    "\n",
    "        # Combine the datasets\n",
    "        return -np.sum(v), -np.sum(g, axis=0)\n",
    "\n",
    "    # Optimize the model\n",
    "    p0 = gp.get_parameter_vector()\n",
    "    bounds = gp.get_parameter_bounds()\n",
    "    soln = minimize(nll, p0, jac=True, bounds=bounds)\n",
    "    gp.set_parameter_vector(soln.x)\n",
    "\n",
    "    # Compute the maximum likelihood tau\n",
    "    a, c = kernel.coefficients[:2]\n",
    "    tau = thin * 2 * np.sum(a / c) / np.sum(a)\n",
    "    return tau\n",
    "\n",
    "\n",
    "# Calculate the estimate for a set of different chain lengths\n",
    "ml = np.empty(len(N))\n",
    "ml[:] = np.nan\n",
    "for j, n in enumerate(N[1:8]):\n",
    "    i = j + 1\n",
    "    thin = max(1, int(0.05 * new[i]))\n",
    "    ml[i] = autocorr_ml(chain[:, :n], thin=thin)"
   ]
  },
  {
   "cell_type": "code",
   "execution_count": null,
   "metadata": {
    "collapsed": false,
    "jupyter": {
     "outputs_hidden": false
    }
   },
   "outputs": [],
   "source": [
    "# Plot the comparisons\n",
    "plt.loglog(N, gw2010, \"o-\", label=\"G\\&W 2010\")\n",
    "plt.loglog(N, new, \"o-\", label=\"DFM 2017\")\n",
    "plt.loglog(N, ml, \"o-\", label=\"DFM 2017: ML\")\n",
    "ylim = plt.gca().get_ylim()\n",
    "plt.plot(N, N / 50.0, \"--k\", label=r\"$\\tau = N/50$\")\n",
    "plt.ylim(ylim)\n",
    "plt.xlabel(\"number of samples, $N$\")\n",
    "plt.ylabel(r\"$\\tau$ estimates\")\n",
    "plt.legend(fontsize=14);"
   ]
  },
  {
   "cell_type": "markdown",
   "metadata": {},
   "source": [
    "In this case, this estimate seems to be robust even for very short chains with $N \\sim \\tau$."
   ]
  }
 ],
 "metadata": {
  "interpreter": {
   "hash": "5d1583dc6522fdca8b9cf6587d3eebed179eafd4280bb32d860d5fb871a69112"
  },
  "kernelspec": {
   "display_name": "Python 3 (ipykernel)",
   "language": "python",
   "name": "python3"
  },
  "language_info": {
   "codemirror_mode": {
    "name": "ipython",
    "version": 3
   },
   "file_extension": ".py",
   "mimetype": "text/x-python",
   "name": "python",
   "nbconvert_exporter": "python",
   "pygments_lexer": "ipython3",
   "version": "3.11.0"
  }
 },
 "nbformat": 4,
 "nbformat_minor": 4
}
