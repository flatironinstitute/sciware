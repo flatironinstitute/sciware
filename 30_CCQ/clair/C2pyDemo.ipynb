{
 "cells": [
  {
   "cell_type": "code",
   "execution_count": null,
   "id": "eb187f68-7c62-4561-89a4-d8f0d10c2f32",
   "metadata": {},
   "outputs": [],
   "source": [
    "%load_ext clair.c2py_magic"
   ]
  },
  {
   "cell_type": "code",
   "execution_count": null,
   "id": "7f1865b8-2ff3-459b-806b-58a21dbb124b",
   "metadata": {},
   "outputs": [],
   "source": [
    "%%c2py \n",
    "int add(int i, int j) { \n",
    " return i+j;\n",
    "}\n"
   ]
  },
  {
   "cell_type": "code",
   "execution_count": null,
   "id": "2a36f64c-0a85-4d83-880e-1bcd2fe6d75d",
   "metadata": {},
   "outputs": [],
   "source": [
    "print(add(1, 2))"
   ]
  }
 ],
 "metadata": {
  "kernelspec": {
   "display_name": "Python 3 (ipykernel)",
   "language": "python",
   "name": "python3"
  },
  "language_info": {
   "codemirror_mode": {
    "name": "ipython",
    "version": 3
   },
   "file_extension": ".py",
   "mimetype": "text/x-python",
   "name": "python",
   "nbconvert_exporter": "python",
   "pygments_lexer": "ipython3",
   "version": "3.12.2"
  }
 },
 "nbformat": 4,
 "nbformat_minor": 5
}
