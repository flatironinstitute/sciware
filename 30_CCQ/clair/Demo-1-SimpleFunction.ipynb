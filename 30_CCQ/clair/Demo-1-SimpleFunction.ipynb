{
 "cells": [
  {
   "cell_type": "code",
   "execution_count": 1,
   "id": "eb187f68-7c62-4561-89a4-d8f0d10c2f32",
   "metadata": {},
   "outputs": [],
   "source": [
    "%reload_ext clair.c2py_magic"
   ]
  },
  {
   "cell_type": "code",
   "execution_count": 6,
   "id": "7f1865b8-2ff3-459b-806b-58a21dbb124b",
   "metadata": {},
   "outputs": [],
   "source": [
    "%%c2py \n",
    "int add(int i, int j) { \n",
    " return i+j;\n",
    "}"
   ]
  },
  {
   "cell_type": "code",
   "execution_count": 4,
   "id": "2a36f64c-0a85-4d83-880e-1bcd2fe6d75d",
   "metadata": {},
   "outputs": [
    {
     "name": "stdout",
     "output_type": "stream",
     "text": [
      "3\n"
     ]
    }
   ],
   "source": [
    "print(add(1, 2))"
   ]
  },
  {
   "cell_type": "code",
   "execution_count": null,
   "id": "a7a73773-f1fb-4f91-bdf0-d89fc3822a66",
   "metadata": {},
   "outputs": [],
   "source": []
  }
 ],
 "metadata": {
  "kernelspec": {
   "display_name": "Python 3 (ipykernel)",
   "language": "python",
   "name": "python3"
  },
  "language_info": {
   "codemirror_mode": {
    "name": "ipython",
    "version": 3
   },
   "file_extension": ".py",
   "mimetype": "text/x-python",
   "name": "python",
   "nbconvert_exporter": "python",
   "pygments_lexer": "ipython3",
   "version": "3.12.2"
  }
 },
 "nbformat": 4,
 "nbformat_minor": 5
}
