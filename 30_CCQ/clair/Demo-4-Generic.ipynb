{
 "cells": [
  {
   "cell_type": "code",
   "execution_count": null,
   "id": "eb187f68-7c62-4561-89a4-d8f0d10c2f32",
   "metadata": {},
   "outputs": [],
   "source": [
    "%reload_ext clair.c2py_magic"
   ]
  },
  {
   "cell_type": "code",
   "execution_count": null,
   "id": "c83d06ab-b36c-432e-8481-cb2069078f96",
   "metadata": {},
   "outputs": [],
   "source": [
    "%%c2py \n",
    "auto addg(auto i, auto j) { \n",
    " return i+j;\n",
    "}\n",
    "\n",
    "namespace c2py_module {\n",
    "  \n",
    "   namespace add {\n",
    "     auto addg = c2py::dispatch<::addg<int,int>, ::addg<double,double>>;\n",
    "  }\n",
    "}"
   ]
  },
  {
   "cell_type": "code",
   "execution_count": null,
   "id": "3352678d-e679-4935-bfe2-5971f3393cdc",
   "metadata": {},
   "outputs": [],
   "source": [
    "print(addg(1,2.2))"
   ]
  },
  {
   "cell_type": "code",
   "execution_count": null,
   "id": "f4edc82e-9142-48b3-a169-bac27bba8cfb",
   "metadata": {},
   "outputs": [],
   "source": []
  },
  {
   "cell_type": "code",
   "execution_count": null,
   "id": "33fcebf4-ee29-4af8-84fe-e5339d2869d7",
   "metadata": {},
   "outputs": [],
   "source": []
  }
 ],
 "metadata": {
  "kernelspec": {
   "display_name": "Python 3 (ipykernel)",
   "language": "python",
   "name": "python3"
  },
  "language_info": {
   "codemirror_mode": {
    "name": "ipython",
    "version": 3
   },
   "file_extension": ".py",
   "mimetype": "text/x-python",
   "name": "python",
   "nbconvert_exporter": "python",
   "pygments_lexer": "ipython3",
   "version": "3.12.2"
  }
 },
 "nbformat": 4,
 "nbformat_minor": 5
}
