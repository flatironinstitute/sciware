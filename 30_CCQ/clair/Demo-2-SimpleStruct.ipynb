{
 "cells": [
  {
   "cell_type": "code",
   "execution_count": null,
   "id": "eb187f68-7c62-4561-89a4-d8f0d10c2f32",
   "metadata": {},
   "outputs": [],
   "source": [
    "%reload_ext clair.c2py_magic"
   ]
  },
  {
   "cell_type": "code",
   "execution_count": null,
   "id": "7f1865b8-2ff3-459b-806b-58a21dbb124b",
   "metadata": {},
   "outputs": [],
   "source": [
    "%%c2py \n",
    "struct S { \n",
    "    int i = 3;\n",
    "    double x;\n",
    "    std::string s;\n",
    "};\n"
   ]
  },
  {
   "cell_type": "code",
   "execution_count": null,
   "id": "7ab14533-2f1f-4d00-9728-3e544e58781b",
   "metadata": {},
   "outputs": [],
   "source": [
    "s = S(x= 1.3, s= 'abc',i = 4)"
   ]
  }
 ],
 "metadata": {
  "kernelspec": {
   "display_name": "Python 3 (ipykernel)",
   "language": "python",
   "name": "python3"
  },
  "language_info": {
   "codemirror_mode": {
    "name": "ipython",
    "version": 3
   },
   "file_extension": ".py",
   "mimetype": "text/x-python",
   "name": "python",
   "nbconvert_exporter": "python",
   "pygments_lexer": "ipython3",
   "version": "3.12.2"
  }
 },
 "nbformat": 4,
 "nbformat_minor": 5
}
