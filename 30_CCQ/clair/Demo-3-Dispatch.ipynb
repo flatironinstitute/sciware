{
 "cells": [
  {
   "cell_type": "code",
   "execution_count": 1,
   "id": "eb187f68-7c62-4561-89a4-d8f0d10c2f32",
   "metadata": {},
   "outputs": [],
   "source": [
    "%load_ext clair.c2py_magic"
   ]
  },
  {
   "cell_type": "code",
   "execution_count": 2,
   "id": "6401584d-21b5-4433-a00d-540987d07ed6",
   "metadata": {},
   "outputs": [],
   "source": [
    "%%c2py \n",
    "/// first overload\n",
    "int g(int x) { return 1;}\n",
    "\n",
    "/// second overload\n",
    "int g(std::string const &x){ return 2;}"
   ]
  },
  {
   "cell_type": "code",
   "execution_count": 3,
   "id": "672bf203-0a62-4f47-a9f0-d06835218b68",
   "metadata": {},
   "outputs": [
    {
     "ename": "TypeError",
     "evalue": "[c2py] Can not call the function with the arguments\n  - (1.4,)\nThe dispatch to C++ failed with the following error(s):\n[1] (x: int) -> int \n    x: Cannot convert 1.4 to integer type\n[2] (x: const std::string &) -> int \n    x: Cannot convert 1.4 to string\n",
     "output_type": "error",
     "traceback": [
      "\u001b[0;31m---------------------------------------------------------------------------\u001b[0m",
      "\u001b[0;31mTypeError\u001b[0m                                 Traceback (most recent call last)",
      "Cell \u001b[0;32mIn[3], line 1\u001b[0m\n\u001b[0;32m----> 1\u001b[0m \u001b[43mg\u001b[49m\u001b[43m(\u001b[49m\u001b[38;5;241;43m1.4\u001b[39;49m\u001b[43m)\u001b[49m\n",
      "\u001b[0;31mTypeError\u001b[0m: [c2py] Can not call the function with the arguments\n  - (1.4,)\nThe dispatch to C++ failed with the following error(s):\n[1] (x: int) -> int \n    x: Cannot convert 1.4 to integer type\n[2] (x: const std::string &) -> int \n    x: Cannot convert 1.4 to string\n"
     ]
    }
   ],
   "source": [
    "g(1.4)"
   ]
  },
  {
   "cell_type": "code",
   "execution_count": null,
   "id": "d0ba33ba-12c9-420a-a9c2-6cadf4e0f4b8",
   "metadata": {},
   "outputs": [],
   "source": [
    "help(g)"
   ]
  },
  {
   "cell_type": "code",
   "execution_count": null,
   "id": "c50a56a0-9ebd-43cb-8229-3d3d14f4f3a0",
   "metadata": {},
   "outputs": [],
   "source": []
  }
 ],
 "metadata": {
  "kernelspec": {
   "display_name": "Python 3 (ipykernel)",
   "language": "python",
   "name": "python3"
  },
  "language_info": {
   "codemirror_mode": {
    "name": "ipython",
    "version": 3
   },
   "file_extension": ".py",
   "mimetype": "text/x-python",
   "name": "python",
   "nbconvert_exporter": "python",
   "pygments_lexer": "ipython3",
   "version": "3.12.2"
  }
 },
 "nbformat": 4,
 "nbformat_minor": 5
}
